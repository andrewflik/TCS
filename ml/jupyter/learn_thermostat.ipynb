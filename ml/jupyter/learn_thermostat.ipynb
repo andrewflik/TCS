{
 "cells": [
  {
   "cell_type": "code",
   "execution_count": 1,
   "metadata": {},
   "outputs": [],
   "source": [
    "import sys\n",
    "import numpy\n",
    "import pprint\n",
    "import time\n",
    "import os\n",
    "import h5py\n",
    "import argparse as argparse\n",
    "import json"
   ]
  },
  {
   "cell_type": "code",
   "execution_count": 2,
   "metadata": {},
   "outputs": [
    {
     "name": "stderr",
     "output_type": "stream",
     "text": [
      "Using TensorFlow backend.\n"
     ]
    }
   ],
   "source": [
    "from keras.models import Sequential\n",
    "from keras.layers import Dense\n",
    "from keras.layers import Activation\n",
    "from keras.utils import np_utils\n",
    "from keras.callbacks import History\n",
    "from sklearn.preprocessing import LabelEncoder"
   ]
  },
  {
   "cell_type": "code",
   "execution_count": 3,
   "metadata": {},
   "outputs": [],
   "source": [
    "#my code\n",
    "import shared"
   ]
  },
  {
   "cell_type": "code",
   "execution_count": 4,
   "metadata": {},
   "outputs": [],
   "source": [
    "numDays = 90"
   ]
  },
  {
   "cell_type": "code",
   "execution_count": null,
   "metadata": {},
   "outputs": [],
   "source": [
    "#warning do not execute in jupyter\n",
    "ap=argparse.ArgumentParser()\n",
    "ap.add_argument(\"-d\", \"--days\", default=2,\n",
    "    help=\"How many days of data to include in learning\")\n",
    "args = vars(ap.parse_args())\n",
    "numDays= float(args[\"days\"])"
   ]
  },
  {
   "cell_type": "code",
   "execution_count": 5,
   "metadata": {},
   "outputs": [
    {
     "name": "stdout",
     "output_type": "stream",
     "text": [
      "Will be loading data for past 90 days.\n",
      "now: 1514976551000\n",
      "timeToSubtract: 7776000000\n",
      "effective_time : 1507200551000\n"
     ]
    }
   ],
   "source": [
    "print(\"Will be loading data for past {} days.\".format(numDays))\n",
    "\n",
    "df = shared.getData(numDays)\n",
    "df = df.drop(['state'],axis=1)"
   ]
  },
  {
   "cell_type": "code",
   "execution_count": 6,
   "metadata": {},
   "outputs": [
    {
     "name": "stdout",
     "output_type": "stream",
     "text": [
      "day                 int64\n",
      "extHumidity         int64\n",
      "extTemp           float64\n",
      "fanspeed            int64\n",
      "hour                int64\n",
      "loungeHumidity     object\n",
      "loungeTemp         object\n",
      "minute              int64\n",
      "mode              float64\n",
      "month               int64\n",
      "pirstatus           int64\n",
      "temperature         int64\n",
      "dtype: object\n",
      "There are 2914 rows in the dataframe\n",
      "      day  extHumidity  extTemp  fanspeed  hour loungeHumidity loungeTemp  \\\n",
      "0       3           40     23.0         0    10          39.00      23.00   \n",
      "1       3           40     23.0         0    10          39.00      23.00   \n",
      "2       3           40     23.0         0    10          38.00      23.00   \n",
      "3       3           43     23.0         0    10          38.00      23.00   \n",
      "4       3           43     23.0         0    10          38.00      23.00   \n",
      "5       3           43     23.0         0    10          38.00      23.00   \n",
      "6       3           43     23.0         0    10          39.00      23.00   \n",
      "7       3           43     23.0         0    10          39.00      23.00   \n",
      "8       3           43     23.0         0    10          39.00      23.00   \n",
      "9       3           43     23.0         0    10          39.00      23.00   \n",
      "10      3           43     23.0         0     9          40.00      23.00   \n",
      "11      3           43     23.0         0     9          39.00      23.00   \n",
      "12      3           43     23.0         0     9          39.00      23.00   \n",
      "13      3           43     23.0         0     9          39.00      23.00   \n",
      "14      3           43     23.0         0     9          40.00      23.00   \n",
      "15      3           43     23.0         0     9          40.00      23.00   \n",
      "16      3           43     23.0         0     9          40.00      23.00   \n",
      "17      3           43     22.0         0     9          40.00      23.00   \n",
      "18      3           43     22.0         0     9          41.00      23.00   \n",
      "19      3           43     22.0         0     9          41.00      23.00   \n",
      "20      3           43     22.0         0     9          41.00      23.00   \n",
      "21      3           43     22.0         0     9          42.00      23.00   \n",
      "22      3           43     22.0         0     8          41.00      23.00   \n",
      "23      3           43     22.0         0     8          41.00      23.00   \n",
      "24      3           43     22.0         0     8          40.00      23.00   \n",
      "25      3           43     22.0         0     8          41.00      23.00   \n",
      "26      3           43     22.0         0     8          41.00      23.00   \n",
      "27      3           43     22.0         0     8          43.00      23.00   \n",
      "28      3           43     22.0         0     8          42.00      23.00   \n",
      "29      3           49     21.0         0     8          42.00      23.00   \n",
      "...   ...          ...      ...       ...   ...            ...        ...   \n",
      "2884   24           18     28.0         0     9          19.00      24.00   \n",
      "2885   24           18     28.0         0     9          19.00      24.00   \n",
      "2886   24           18     28.0         0     9          19.00      24.00   \n",
      "2887   24           18     28.0         0     9          19.00      24.00   \n",
      "2888   24           18     28.0         0     9          20.00      24.00   \n",
      "2889   24           18     28.0         0     8          19.00      24.00   \n",
      "2890   24           18     28.0         0     8          19.00      24.00   \n",
      "2891   24           18     28.0         0     8          20.00      24.00   \n",
      "2892   24           18     28.0         0     8          20.00      24.00   \n",
      "2893   24           18     28.0         0     8          21.00      24.00   \n",
      "2894   24           22     25.0         0     8          21.00      24.00   \n",
      "2895   24           22     25.0         0     8          20.00      24.00   \n",
      "2896   24           22     25.0         0     8          20.00      24.00   \n",
      "2897   24           22     25.0         0     8          22.00      24.00   \n",
      "2898   24           22     25.0         0     8          22.00      25.00   \n",
      "2899   24           22     25.0         0     8          21.00      24.00   \n",
      "2900   24           22     25.0         0     8          21.00      24.00   \n",
      "2901   24           22     25.0         0     7          22.00      24.00   \n",
      "2902   24           22     25.0         0     7          22.00      24.00   \n",
      "2903   24           22     25.0         0     7          23.00      24.00   \n",
      "2904   24           22     25.0         0     7          23.00      24.00   \n",
      "2905   24           22     25.0         0     7          24.00      24.00   \n",
      "2906   24           25     23.0         0     7          25.00      24.00   \n",
      "2907   24           25     23.0         0     7          23.00      24.00   \n",
      "2908   24           25     23.0         0     7          21.00      24.00   \n",
      "2909   24           25     23.0         0     7          22.00      24.00   \n",
      "2910   24           25     23.0         0     7          22.00      24.00   \n",
      "2911   24           25     23.0         0     7          22.00      24.00   \n",
      "2912   24           25     23.0         0     7          23.00      24.00   \n",
      "2913   24           25     23.0         0     6          24.00      24.00   \n",
      "\n",
      "      minute  mode  month  pirstatus  temperature  \n",
      "0         47   1.0      0          0           30  \n",
      "1         42   1.0      0          0           30  \n",
      "2         37   1.0      0          0           30  \n",
      "3         32   1.0      0          0           30  \n",
      "4         27   1.0      0          0           30  \n",
      "5         22   1.0      0          0           30  \n",
      "6         17   1.0      0          0           30  \n",
      "7         12   1.0      0          1           30  \n",
      "8          7   1.0      0          1           30  \n",
      "9          2   1.0      0          1           30  \n",
      "10        57   1.0      0          1           30  \n",
      "11        52   1.0      0          0           30  \n",
      "12        47   1.0      0          4           30  \n",
      "13        42   1.0      0          0           30  \n",
      "14        37   1.0      0          1           30  \n",
      "15        32   1.0      0          5           30  \n",
      "16        27   1.0      0          2           30  \n",
      "17        22   1.0      0          0           30  \n",
      "18        17   1.0      0          1           30  \n",
      "19        12   1.0      0          5           30  \n",
      "20         7   1.0      0          5           30  \n",
      "21         2   1.0      0          1           30  \n",
      "22        57   1.0      0          0           30  \n",
      "23        52   1.0      0          0           30  \n",
      "24        47   1.0      0          0           30  \n",
      "25        42   1.0      0          0           30  \n",
      "26        37   1.0      0          0           30  \n",
      "27        32   1.0      0          0           30  \n",
      "28        27   1.0      0          0           30  \n",
      "29        22   1.0      0          0           30  \n",
      "...      ...   ...    ...        ...          ...  \n",
      "2884      22   1.0     11          0           30  \n",
      "2885      17   1.0     11          0           30  \n",
      "2886      12   1.0     11          0           30  \n",
      "2887       7   1.0     11          0           30  \n",
      "2888       2   1.0     11          3           30  \n",
      "2889      57   1.0     11          1           30  \n",
      "2890      52   1.0     11          0           30  \n",
      "2891      47   1.0     11          2           30  \n",
      "2892      42   1.0     11          1           30  \n",
      "2893      37   1.0     11          2           30  \n",
      "2894      32   1.0     11          2           30  \n",
      "2895      27   1.0     11          3           30  \n",
      "2896      22   1.0     11          0           30  \n",
      "2897      17   1.0     11          5           30  \n",
      "2898      12   1.0     11          0           30  \n",
      "2899       7   1.0     11          0           30  \n",
      "2900       2   1.0     11          0           30  \n",
      "2901      57   1.0     11          2           30  \n",
      "2902      52   1.0     11          0           30  \n",
      "2903      47   1.0     11          1           30  \n",
      "2904      42   1.0     11          1           30  \n",
      "2905      37   1.0     11          2           30  \n",
      "2906      32   1.0     11          4           30  \n",
      "2907      27   1.0     11          3           30  \n",
      "2908      22   1.0     11          1           30  \n",
      "2909      17   1.0     11          4           30  \n",
      "2910      12   1.0     11          3           30  \n",
      "2911       7   1.0     11          2           30  \n",
      "2912       2   1.0     11          2           30  \n",
      "2913      57   1.0     11          3           30  \n",
      "\n",
      "[2914 rows x 12 columns]\n",
      "[RangeIndex(start=0, stop=2914, step=1),\n",
      " Index(['day', 'extHumidity', 'extTemp', 'fanspeed', 'hour', 'loungeHumidity',\n",
      "       'loungeTemp', 'minute', 'mode', 'month', 'pirstatus', 'temperature'],\n",
      "      dtype='object')]\n"
     ]
    }
   ],
   "source": [
    "pprint.pprint(df.dtypes)\n",
    "print(\"There are %d rows in the dataframe\" % len(df))\n",
    "pprint.pprint(df)\n",
    "\n",
    "pprint.pprint(df.axes)\n",
    "indexOfTemperature = df.axes[1].tolist().index(\"temperature\")"
   ]
  },
  {
   "cell_type": "code",
   "execution_count": 7,
   "metadata": {},
   "outputs": [],
   "source": [
    "if indexOfTemperature == (len(df.axes[1])-1):\n",
    "    # the temperature/label column is at the end.. easy\n",
    "    dataset = df.values[:,0:(indexOfTemperature)].astype(float)\n",
    "    labels = df.values[:,indexOfTemperature].astype(int)"
   ]
  },
  {
   "cell_type": "code",
   "execution_count": 8,
   "metadata": {},
   "outputs": [
    {
     "name": "stdout",
     "output_type": "stream",
     "text": [
      "array([[  3.,  40.,  23., ...,   1.,   0.,   0.],\n",
      "       [  3.,  40.,  23., ...,   1.,   0.,   0.],\n",
      "       [  3.,  40.,  23., ...,   1.,   0.,   0.],\n",
      "       ..., \n",
      "       [ 24.,  25.,  23., ...,   1.,  11.,   2.],\n",
      "       [ 24.,  25.,  23., ...,   1.,  11.,   2.],\n",
      "       [ 24.,  25.,  23., ...,   1.,  11.,   3.]])\n",
      "array([30, 30, 30, ..., 30, 30, 30])\n"
     ]
    }
   ],
   "source": [
    "#debug print\n",
    "pprint.pprint(dataset)\n",
    "pprint.pprint(labels)"
   ]
  },
  {
   "cell_type": "code",
   "execution_count": 9,
   "metadata": {},
   "outputs": [],
   "source": [
    "#convert to numpy array\n",
    "#dataset = \n",
    "\n",
    "# fix random seed for reproducibility\n",
    "seed = 7\n",
    "numpy.random.seed(seed)"
   ]
  },
  {
   "cell_type": "code",
   "execution_count": 10,
   "metadata": {},
   "outputs": [],
   "source": [
    "# encode class values as integers\n",
    "encoder = LabelEncoder()\n",
    "encoder.fit(labels)\n",
    "encoded_labels = encoder.transform(labels)\n",
    "# convert integers to dummy variables (i.e. one hot encoded)\n",
    "one_hot_labels = np_utils.to_categorical(encoded_labels)"
   ]
  },
  {
   "cell_type": "code",
   "execution_count": 11,
   "metadata": {},
   "outputs": [
    {
     "name": "stdout",
     "output_type": "stream",
     "text": [
      "array([13, 13, 13, ..., 13, 13, 13], dtype=int64)\n",
      "array([[ 0.,  0.,  0., ...,  0.,  0.,  1.],\n",
      "       [ 0.,  0.,  0., ...,  0.,  0.,  1.],\n",
      "       [ 0.,  0.,  0., ...,  0.,  0.,  1.],\n",
      "       ..., \n",
      "       [ 0.,  0.,  0., ...,  0.,  0.,  1.],\n",
      "       [ 0.,  0.,  0., ...,  0.,  0.,  1.],\n",
      "       [ 0.,  0.,  0., ...,  0.,  0.,  1.]])\n"
     ]
    }
   ],
   "source": [
    "pprint.pprint(encoded_labels)\n",
    "pprint.pprint(one_hot_labels)"
   ]
  },
  {
   "cell_type": "code",
   "execution_count": 12,
   "metadata": {},
   "outputs": [
    {
     "name": "stdout",
     "output_type": "stream",
     "text": [
      "input_dimension 11\n",
      "output_dimension  14\n"
     ]
    }
   ],
   "source": [
    "input_dimension = dataset.shape[1]\n",
    "output_dimension = one_hot_labels.shape[1]\n",
    "print(\"input_dimension\", input_dimension)\n",
    "print(\"output_dimension \", output_dimension)\n",
    "# define baseline model\n",
    "def baseline_model():\n",
    "    # create model\n",
    "    model = Sequential()\n",
    "    model.add(Dense(11, activation='relu', input_dim=input_dimension))\n",
    "    model.add(Dense(units=output_dimension))\n",
    "    model.add(Activation(\"softmax\"))\n",
    "    # Compile model\n",
    "    model.compile(loss='categorical_crossentropy', optimizer='adam', metrics=['accuracy'])\n",
    "    return model"
   ]
  },
  {
   "cell_type": "code",
   "execution_count": 13,
   "metadata": {},
   "outputs": [],
   "source": [
    "model = baseline_model()\n",
    "history = History()"
   ]
  },
  {
   "cell_type": "code",
   "execution_count": 14,
   "metadata": {},
   "outputs": [
    {
     "name": "stdout",
     "output_type": "stream",
     "text": [
      "Epoch 1/50\n",
      "2914/2914 [==============================] - 3s 865us/step - loss: 7.9142 - acc: 0.3974\n",
      "Epoch 2/50\n",
      "2914/2914 [==============================] - 2s 738us/step - loss: 0.8498 - acc: 0.7889\n",
      "Epoch 3/50\n",
      "2914/2914 [==============================] - 2s 650us/step - loss: 0.7533 - acc: 0.7872\n",
      "Epoch 4/50\n",
      "2914/2914 [==============================] - 2s 655us/step - loss: 0.7102 - acc: 0.7938\n",
      "Epoch 5/50\n",
      "2914/2914 [==============================] - 2s 658us/step - loss: 0.6919 - acc: 0.7948\n",
      "Epoch 6/50\n",
      "2914/2914 [==============================] - 2s 789us/step - loss: 0.6780 - acc: 0.7938\n",
      "Epoch 7/50\n",
      "2914/2914 [==============================] - 3s 1ms/step - loss: 0.6636 - acc: 0.8003\n",
      "Epoch 8/50\n",
      "2914/2914 [==============================] - 2s 838us/step - loss: 0.6527 - acc: 0.8023\n",
      "Epoch 9/50\n",
      "2914/2914 [==============================] - 2s 679us/step - loss: 0.6384 - acc: 0.7986\n",
      "Epoch 10/50\n",
      "2914/2914 [==============================] - 2s 775us/step - loss: 0.6252 - acc: 0.7989\n",
      "Epoch 11/50\n",
      "2914/2914 [==============================] - 2s 750us/step - loss: 0.6182 - acc: 0.8003\n",
      "Epoch 12/50\n",
      "2914/2914 [==============================] - 2s 649us/step - loss: 0.6126 - acc: 0.8044\n",
      "Epoch 13/50\n",
      "2914/2914 [==============================] - 2s 639us/step - loss: 0.6027 - acc: 0.8006\n",
      "Epoch 14/50\n",
      "2914/2914 [==============================] - 2s 658us/step - loss: 0.5950 - acc: 0.8037\n",
      "Epoch 15/50\n",
      "2914/2914 [==============================] - 2s 767us/step - loss: 0.5899 - acc: 0.8030\n",
      "Epoch 16/50\n",
      "2914/2914 [==============================] - 2s 740us/step - loss: 0.5833 - acc: 0.8113\n",
      "Epoch 17/50\n",
      "2914/2914 [==============================] - 2s 757us/step - loss: 0.5746 - acc: 0.8116\n",
      "Epoch 18/50\n",
      "2914/2914 [==============================] - 2s 854us/step - loss: 0.5675 - acc: 0.8126\n",
      "Epoch 19/50\n",
      "2914/2914 [==============================] - 2s 747us/step - loss: 0.5561 - acc: 0.8226\n",
      "Epoch 20/50\n",
      "2914/2914 [==============================] - 2s 755us/step - loss: 0.5451 - acc: 0.8260\n",
      "Epoch 21/50\n",
      "2914/2914 [==============================] - 3s 947us/step - loss: 0.5298 - acc: 0.8294 1s - loss: 0.\n",
      "Epoch 22/50\n",
      "2914/2914 [==============================] - 2s 702us/step - loss: 0.5159 - acc: 0.8332\n",
      "Epoch 23/50\n",
      "2914/2914 [==============================] - 2s 682us/step - loss: 0.5079 - acc: 0.8325\n",
      "Epoch 24/50\n",
      "2914/2914 [==============================] - 2s 787us/step - loss: 0.4935 - acc: 0.8391\n",
      "Epoch 25/50\n",
      "2914/2914 [==============================] - 3s 873us/step - loss: 0.4864 - acc: 0.8408\n",
      "Epoch 26/50\n",
      "2914/2914 [==============================] - 2s 807us/step - loss: 0.4806 - acc: 0.8404 1\n",
      "Epoch 27/50\n",
      "2914/2914 [==============================] - 2s 746us/step - loss: 0.4789 - acc: 0.8439\n",
      "Epoch 28/50\n",
      "2914/2914 [==============================] - 2s 755us/step - loss: 0.4675 - acc: 0.8452\n",
      "Epoch 29/50\n",
      "2914/2914 [==============================] - 2s 767us/step - loss: 0.4666 - acc: 0.8432\n",
      "Epoch 30/50\n",
      "2914/2914 [==============================] - 2s 796us/step - loss: 0.4612 - acc: 0.8445\n",
      "Epoch 31/50\n",
      "2914/2914 [==============================] - 2s 759us/step - loss: 0.4563 - acc: 0.8445\n",
      "Epoch 32/50\n",
      "2914/2914 [==============================] - 2s 759us/step - loss: 0.4555 - acc: 0.8442\n",
      "Epoch 33/50\n",
      "2914/2914 [==============================] - 2s 773us/step - loss: 0.4551 - acc: 0.8459\n",
      "Epoch 34/50\n",
      "2914/2914 [==============================] - 2s 805us/step - loss: 0.4489 - acc: 0.8480\n",
      "Epoch 35/50\n",
      "2914/2914 [==============================] - 2s 783us/step - loss: 0.4422 - acc: 0.8469\n",
      "Epoch 36/50\n",
      "2914/2914 [==============================] - 2s 691us/step - loss: 0.4393 - acc: 0.8463\n",
      "Epoch 37/50\n",
      "2914/2914 [==============================] - 2s 805us/step - loss: 0.4438 - acc: 0.8480\n",
      "Epoch 38/50\n",
      "2914/2914 [==============================] - 2s 800us/step - loss: 0.4400 - acc: 0.8497\n",
      "Epoch 39/50\n",
      "2914/2914 [==============================] - 2s 705us/step - loss: 0.4383 - acc: 0.8480\n",
      "Epoch 40/50\n",
      "2914/2914 [==============================] - 2s 688us/step - loss: 0.4291 - acc: 0.8507\n",
      "Epoch 41/50\n",
      "2914/2914 [==============================] - 2s 711us/step - loss: 0.4348 - acc: 0.8466\n",
      "Epoch 42/50\n",
      "2914/2914 [==============================] - 2s 824us/step - loss: 0.4257 - acc: 0.8480\n",
      "Epoch 43/50\n",
      "2914/2914 [==============================] - 2s 802us/step - loss: 0.4265 - acc: 0.8511\n",
      "Epoch 44/50\n",
      "2914/2914 [==============================] - 2s 767us/step - loss: 0.4318 - acc: 0.8473\n",
      "Epoch 45/50\n",
      "2914/2914 [==============================] - 3s 940us/step - loss: 0.4230 - acc: 0.8514\n",
      "Epoch 46/50\n",
      "2914/2914 [==============================] - 2s 825us/step - loss: 0.4239 - acc: 0.8500\n",
      "Epoch 47/50\n",
      "2914/2914 [==============================] - 2s 844us/step - loss: 0.4213 - acc: 0.8518\n",
      "Epoch 48/50\n",
      "2914/2914 [==============================] - 2s 789us/step - loss: 0.4198 - acc: 0.8514\n",
      "Epoch 49/50\n",
      "2914/2914 [==============================] - 3s 1ms/step - loss: 0.4213 - acc: 0.8507\n",
      "Epoch 50/50\n",
      "2914/2914 [==============================] - 2s 836us/step - loss: 0.4120 - acc: 0.8545\n"
     ]
    },
    {
     "data": {
      "text/plain": [
       "<keras.callbacks.History at 0x1d20f41da20>"
      ]
     },
     "execution_count": 14,
     "metadata": {},
     "output_type": "execute_result"
    }
   ],
   "source": [
    "model.fit(dataset,one_hot_labels, epochs=50, batch_size=3, callbacks=[history])"
   ]
  },
  {
   "cell_type": "code",
   "execution_count": 15,
   "metadata": {},
   "outputs": [],
   "source": [
    "final_loss = history.history['loss'][len(history.history['loss'])-1]\n",
    "if final_loss >  1.0:\n",
    "    sys.exit(\"Unsatisfactory loss ( >1.0) found. will not save model.\")"
   ]
  },
  {
   "cell_type": "code",
   "execution_count": 16,
   "metadata": {},
   "outputs": [
    {
     "name": "stdout",
     "output_type": "stream",
     "text": [
      "Created path assets/trained-models/temperature-model-1514976693\n",
      "Saving model to  assets/trained-models/temperature-model-1514976693/model.json\n",
      "Saving weights to  assets/trained-models/temperature-model-1514976693/model.h5\n",
      "Saving labels to  assets/trained-models/temperature-model-1514976693/labels.json\n"
     ]
    }
   ],
   "source": [
    "#create new model directory\n",
    "base_path = \"assets/trained-models\"\n",
    "this_model_name = \"temperature-model-%d\" % time.time()\n",
    "\n",
    "#ensure directory exists\n",
    "this_model_base_path = \"%s/%s\" % (base_path, this_model_name)\n",
    "os.makedirs(this_model_base_path)\n",
    "print(\"Created path \" + this_model_base_path)\n",
    "\n",
    "this_model_json_path = (\"{}/model.json\".format(this_model_base_path))\n",
    "this_model_weights_path = (\"{}/model.h5\".format(this_model_base_path))\n",
    "this_model_labels_path = (\"{}/labels.json\".format(this_model_base_path))\n",
    "\n",
    "print(\"Saving model to \", this_model_json_path)\n",
    "print(\"Saving weights to \", this_model_weights_path)\n",
    "print(\"Saving labels to \", this_model_labels_path)"
   ]
  },
  {
   "cell_type": "code",
   "execution_count": 17,
   "metadata": {},
   "outputs": [],
   "source": [
    "model_json = model.to_json()\n",
    "with open(this_model_json_path, \"w\") as json_file:\n",
    "    json_file.write(model_json)\n",
    "model.save_weights(this_model_weights_path)\n",
    "\n",
    "#make labels and save\n",
    "classes = [str(i) for i in encoded_labels]\n",
    "labels = [str(i) for i in labels]\n",
    "label_map = dict(zip(classes,labels))\n",
    "label_map_json = json.dumps(label_map)\n",
    "\n",
    "with open(this_model_labels_path, \"w\") as json_file:\n",
    "    json_file.write(label_map_json)\n"
   ]
  },
  {
   "cell_type": "code",
   "execution_count": 18,
   "metadata": {},
   "outputs": [
    {
     "name": "stdout",
     "output_type": "stream",
     "text": [
      "Model successfully saved.\n"
     ]
    }
   ],
   "source": [
    "#update the root index with the path to the latest model\n",
    "model_latest_index = \"%s/temperature-model.index\" % base_path\n",
    "with open(model_latest_index,\"w\") as model_latest_index_file:\n",
    "    model_latest_index_file.write(this_model_name)\n",
    "    \n",
    "print(\"Model successfully saved.\")"
   ]
  },
  {
   "cell_type": "code",
   "execution_count": null,
   "metadata": {},
   "outputs": [],
   "source": []
  }
 ],
 "metadata": {
  "kernelspec": {
   "display_name": "Python 3",
   "language": "python",
   "name": "python3"
  },
  "language_info": {
   "codemirror_mode": {
    "name": "ipython",
    "version": 3
   },
   "file_extension": ".py",
   "mimetype": "text/x-python",
   "name": "python",
   "nbconvert_exporter": "python",
   "pygments_lexer": "ipython3",
   "version": "3.5.3"
  }
 },
 "nbformat": 4,
 "nbformat_minor": 2
}
