{
 "cells": [
  {
   "cell_type": "code",
   "execution_count": 1,
   "metadata": {},
   "outputs": [],
   "source": [
    "import sys\n",
    "import numpy\n",
    "import pprint\n",
    "import time\n",
    "import os\n",
    "import h5py\n",
    "import argparse as argparse\n",
    "import json"
   ]
  },
  {
   "cell_type": "code",
   "execution_count": 2,
   "metadata": {},
   "outputs": [
    {
     "name": "stderr",
     "output_type": "stream",
     "text": [
      "Using TensorFlow backend.\n"
     ]
    }
   ],
   "source": [
    "from keras.models import Sequential\n",
    "from keras.layers import Dense\n",
    "from keras.layers import Activation\n",
    "from keras.utils import np_utils\n",
    "from keras import optimizers\n",
    "from keras.callbacks import History\n",
    "from sklearn.preprocessing import LabelEncoder\n",
    "import pandas"
   ]
  },
  {
   "cell_type": "code",
   "execution_count": 3,
   "metadata": {},
   "outputs": [],
   "source": [
    "#my code\n",
    "import shared"
   ]
  },
  {
   "cell_type": "code",
   "execution_count": 4,
   "metadata": {},
   "outputs": [],
   "source": [
    "numDays = 90"
   ]
  },
  {
   "cell_type": "code",
   "execution_count": null,
   "metadata": {},
   "outputs": [],
   "source": [
    "#warning do not execute in jupyter\n",
    "ap=argparse.ArgumentParser()\n",
    "ap.add_argument(\"-d\", \"--days\", default=2,\n",
    "    help=\"How many days of data to include in learning\")\n",
    "args = vars(ap.parse_args())\n",
    "numDays= float(args[\"days\"])"
   ]
  },
  {
   "cell_type": "code",
   "execution_count": 5,
   "metadata": {},
   "outputs": [
    {
     "name": "stdout",
     "output_type": "stream",
     "text": [
      "Will be loading data for past 90 days.\n",
      "now: 1514975768000\n",
      "timeToSubtract: 7776000000\n",
      "effective_time : 1507199768000\n"
     ]
    }
   ],
   "source": [
    "print(\"Will be loading data for past {} days.\".format(numDays))\n",
    "\n",
    "df = shared.getData(numDays)\n",
    "df = df.drop(['temperature'],axis=1)"
   ]
  },
  {
   "cell_type": "code",
   "execution_count": 6,
   "metadata": {},
   "outputs": [
    {
     "name": "stdout",
     "output_type": "stream",
     "text": [
      "day                 int64\n",
      "extHumidity         int64\n",
      "extTemp           float64\n",
      "fanspeed            int64\n",
      "hour                int64\n",
      "loungeHumidity     object\n",
      "loungeTemp         object\n",
      "minute              int64\n",
      "mode              float64\n",
      "month               int64\n",
      "pirstatus           int64\n",
      "state              object\n",
      "dtype: object\n",
      "There are 2911 rows in the dataframe\n",
      "      day  extHumidity  extTemp  fanspeed  hour loungeHumidity loungeTemp  \\\n",
      "0       3           43     23.0         0    10          38.00      23.00   \n",
      "1       3           43     23.0         0    10          38.00      23.00   \n",
      "2       3           43     23.0         0    10          38.00      23.00   \n",
      "3       3           43     23.0         0    10          39.00      23.00   \n",
      "4       3           43     23.0         0    10          39.00      23.00   \n",
      "5       3           43     23.0         0    10          39.00      23.00   \n",
      "6       3           43     23.0         0    10          39.00      23.00   \n",
      "7       3           43     23.0         0     9          40.00      23.00   \n",
      "8       3           43     23.0         0     9          39.00      23.00   \n",
      "9       3           43     23.0         0     9          39.00      23.00   \n",
      "10      3           43     23.0         0     9          39.00      23.00   \n",
      "11      3           43     23.0         0     9          40.00      23.00   \n",
      "12      3           43     23.0         0     9          40.00      23.00   \n",
      "13      3           43     23.0         0     9          40.00      23.00   \n",
      "14      3           43     22.0         0     9          40.00      23.00   \n",
      "15      3           43     22.0         0     9          41.00      23.00   \n",
      "16      3           43     22.0         0     9          41.00      23.00   \n",
      "17      3           43     22.0         0     9          41.00      23.00   \n",
      "18      3           43     22.0         0     9          42.00      23.00   \n",
      "19      3           43     22.0         0     8          41.00      23.00   \n",
      "20      3           43     22.0         0     8          41.00      23.00   \n",
      "21      3           43     22.0         0     8          40.00      23.00   \n",
      "22      3           43     22.0         0     8          41.00      23.00   \n",
      "23      3           43     22.0         0     8          41.00      23.00   \n",
      "24      3           43     22.0         0     8          43.00      23.00   \n",
      "25      3           43     22.0         0     8          42.00      23.00   \n",
      "26      3           49     21.0         0     8          42.00      23.00   \n",
      "27      3           49     21.0         0     8          42.00      23.00   \n",
      "28      3           49     21.0         0     8          42.00      23.00   \n",
      "29      3           49     21.0         0     8          43.00      23.00   \n",
      "...   ...          ...      ...       ...   ...            ...        ...   \n",
      "2881   24           18     28.0         0     9          19.00      24.00   \n",
      "2882   24           18     28.0         0     9          19.00      24.00   \n",
      "2883   24           18     28.0         0     9          19.00      24.00   \n",
      "2884   24           18     28.0         0     9          19.00      24.00   \n",
      "2885   24           18     28.0         0     9          20.00      24.00   \n",
      "2886   24           18     28.0         0     8          19.00      24.00   \n",
      "2887   24           18     28.0         0     8          19.00      24.00   \n",
      "2888   24           18     28.0         0     8          20.00      24.00   \n",
      "2889   24           18     28.0         0     8          20.00      24.00   \n",
      "2890   24           18     28.0         0     8          21.00      24.00   \n",
      "2891   24           22     25.0         0     8          21.00      24.00   \n",
      "2892   24           22     25.0         0     8          20.00      24.00   \n",
      "2893   24           22     25.0         0     8          20.00      24.00   \n",
      "2894   24           22     25.0         0     8          22.00      24.00   \n",
      "2895   24           22     25.0         0     8          22.00      25.00   \n",
      "2896   24           22     25.0         0     8          21.00      24.00   \n",
      "2897   24           22     25.0         0     8          21.00      24.00   \n",
      "2898   24           22     25.0         0     7          22.00      24.00   \n",
      "2899   24           22     25.0         0     7          22.00      24.00   \n",
      "2900   24           22     25.0         0     7          23.00      24.00   \n",
      "2901   24           22     25.0         0     7          23.00      24.00   \n",
      "2902   24           22     25.0         0     7          24.00      24.00   \n",
      "2903   24           25     23.0         0     7          25.00      24.00   \n",
      "2904   24           25     23.0         0     7          23.00      24.00   \n",
      "2905   24           25     23.0         0     7          21.00      24.00   \n",
      "2906   24           25     23.0         0     7          22.00      24.00   \n",
      "2907   24           25     23.0         0     7          22.00      24.00   \n",
      "2908   24           25     23.0         0     7          22.00      24.00   \n",
      "2909   24           25     23.0         0     7          23.00      24.00   \n",
      "2910   24           25     23.0         0     6          24.00      24.00   \n",
      "\n",
      "      minute  mode  month  pirstatus state  \n",
      "0         32   1.0      0          0     0  \n",
      "1         27   1.0      0          0     0  \n",
      "2         22   1.0      0          0     0  \n",
      "3         17   1.0      0          0     0  \n",
      "4         12   1.0      0          1     0  \n",
      "5          7   1.0      0          1     0  \n",
      "6          2   1.0      0          1     0  \n",
      "7         57   1.0      0          1     0  \n",
      "8         52   1.0      0          0     0  \n",
      "9         47   1.0      0          4     0  \n",
      "10        42   1.0      0          0     0  \n",
      "11        37   1.0      0          1     0  \n",
      "12        32   1.0      0          5     0  \n",
      "13        27   1.0      0          2     0  \n",
      "14        22   1.0      0          0     0  \n",
      "15        17   1.0      0          1     0  \n",
      "16        12   1.0      0          5     0  \n",
      "17         7   1.0      0          5     0  \n",
      "18         2   1.0      0          1     0  \n",
      "19        57   1.0      0          0     0  \n",
      "20        52   1.0      0          0     0  \n",
      "21        47   1.0      0          0     0  \n",
      "22        42   1.0      0          0     0  \n",
      "23        37   1.0      0          0     0  \n",
      "24        32   1.0      0          0     0  \n",
      "25        27   1.0      0          0     0  \n",
      "26        22   1.0      0          0     0  \n",
      "27        17   1.0      0          0     0  \n",
      "28        12   1.0      0          0     0  \n",
      "29         7   1.0      0          1     0  \n",
      "...      ...   ...    ...        ...   ...  \n",
      "2881      22   1.0     11          0     0  \n",
      "2882      17   1.0     11          0     0  \n",
      "2883      12   1.0     11          0     0  \n",
      "2884       7   1.0     11          0     0  \n",
      "2885       2   1.0     11          3     0  \n",
      "2886      57   1.0     11          1     0  \n",
      "2887      52   1.0     11          0     0  \n",
      "2888      47   1.0     11          2     0  \n",
      "2889      42   1.0     11          1     0  \n",
      "2890      37   1.0     11          2     0  \n",
      "2891      32   1.0     11          2     0  \n",
      "2892      27   1.0     11          3     0  \n",
      "2893      22   1.0     11          0     0  \n",
      "2894      17   1.0     11          5     0  \n",
      "2895      12   1.0     11          0     0  \n",
      "2896       7   1.0     11          0     0  \n",
      "2897       2   1.0     11          0     0  \n",
      "2898      57   1.0     11          2     0  \n",
      "2899      52   1.0     11          0     0  \n",
      "2900      47   1.0     11          1     0  \n",
      "2901      42   1.0     11          1     0  \n",
      "2902      37   1.0     11          2     0  \n",
      "2903      32   1.0     11          4     0  \n",
      "2904      27   1.0     11          3     0  \n",
      "2905      22   1.0     11          1     0  \n",
      "2906      17   1.0     11          4     0  \n",
      "2907      12   1.0     11          3     0  \n",
      "2908       7   1.0     11          2     0  \n",
      "2909       2   1.0     11          2     0  \n",
      "2910      57   1.0     11          3     0  \n",
      "\n",
      "[2911 rows x 12 columns]\n",
      "[RangeIndex(start=0, stop=2911, step=1),\n",
      " Index(['day', 'extHumidity', 'extTemp', 'fanspeed', 'hour', 'loungeHumidity',\n",
      "       'loungeTemp', 'minute', 'mode', 'month', 'pirstatus', 'state'],\n",
      "      dtype='object')]\n"
     ]
    }
   ],
   "source": [
    "pprint.pprint(df.dtypes)\n",
    "print(\"There are %d rows in the dataframe\" % len(df))\n",
    "pprint.pprint(df)\n",
    "\n",
    "pprint.pprint(df.axes)\n",
    "indexOfState = df.axes[1].tolist().index(\"state\")"
   ]
  },
  {
   "cell_type": "code",
   "execution_count": 7,
   "metadata": {},
   "outputs": [],
   "source": [
    "if indexOfState == (len(df.axes[1])-1):\n",
    "    # the temperature/label column is at the end.. easy\n",
    "    dataset = df.values[:,0:(indexOfState)].astype(float)\n",
    "    labels = df.values[:,indexOfState].astype(int)"
   ]
  },
  {
   "cell_type": "code",
   "execution_count": 8,
   "metadata": {},
   "outputs": [
    {
     "name": "stdout",
     "output_type": "stream",
     "text": [
      "array([[  3.,  43.,  23., ...,   1.,   0.,   0.],\n",
      "       [  3.,  43.,  23., ...,   1.,   0.,   0.],\n",
      "       [  3.,  43.,  23., ...,   1.,   0.,   0.],\n",
      "       ..., \n",
      "       [ 24.,  25.,  23., ...,   1.,  11.,   2.],\n",
      "       [ 24.,  25.,  23., ...,   1.,  11.,   2.],\n",
      "       [ 24.,  25.,  23., ...,   1.,  11.,   3.]])\n",
      "array([0, 0, 0, ..., 0, 0, 0])\n"
     ]
    }
   ],
   "source": [
    "#debug print\n",
    "pprint.pprint(dataset)\n",
    "pprint.pprint(labels)"
   ]
  },
  {
   "cell_type": "code",
   "execution_count": 9,
   "metadata": {},
   "outputs": [],
   "source": [
    "# encode class values as integers\n",
    "encoder = LabelEncoder()\n",
    "encoder.fit(labels)\n",
    "encoded_labels = encoder.transform(labels)\n",
    "# convert integers to dummy variables (i.e. one hot encoded)\n",
    "one_hot_labels = np_utils.to_categorical(encoded_labels)"
   ]
  },
  {
   "cell_type": "code",
   "execution_count": 10,
   "metadata": {},
   "outputs": [
    {
     "name": "stdout",
     "output_type": "stream",
     "text": [
      "array([0, 0, 0, ..., 0, 0, 0], dtype=int64)\n",
      "array([[ 1.,  0.],\n",
      "       [ 1.,  0.],\n",
      "       [ 1.,  0.],\n",
      "       ..., \n",
      "       [ 1.,  0.],\n",
      "       [ 1.,  0.],\n",
      "       [ 1.,  0.]])\n"
     ]
    }
   ],
   "source": [
    "pprint.pprint(encoded_labels)\n",
    "pprint.pprint(one_hot_labels)"
   ]
  },
  {
   "cell_type": "code",
   "execution_count": 11,
   "metadata": {},
   "outputs": [],
   "source": [
    "if one_hot_labels.shape[1] == 1:\n",
    "    sys.exit(\"Cannot run classification on 1 class. Was the A/c state changed? Try including more data..\")"
   ]
  },
  {
   "cell_type": "code",
   "execution_count": 12,
   "metadata": {},
   "outputs": [
    {
     "name": "stdout",
     "output_type": "stream",
     "text": [
      "input_dimension 11\n",
      "output_dimension  2\n",
      "input size 2911\n"
     ]
    }
   ],
   "source": [
    "input_dimension = dataset.shape[1]\n",
    "output_dimension = one_hot_labels.shape[1]\n",
    "print(\"input_dimension\", input_dimension)\n",
    "print(\"output_dimension \", output_dimension)\n",
    "print(\"input size\", dataset.shape[0])\n",
    "# define baseline model\n",
    "def baseline_model():\n",
    "\n",
    "    model=Sequential()\n",
    "    model.add(Dense(11,input_dim=input_dimension, activation='relu'))\n",
    "    model.add(Dense(8,activation='relu'))\n",
    "    model.add(Dense(1,activation='sigmoid'))\n",
    "    # Compile model\n",
    "    model.compile(loss='binary_crossentropy', optimizer='adam', metrics=['accuracy'])\n",
    "\n",
    "    return model"
   ]
  },
  {
   "cell_type": "code",
   "execution_count": 13,
   "metadata": {},
   "outputs": [],
   "source": [
    "model = baseline_model()\n",
    "history = History()"
   ]
  },
  {
   "cell_type": "code",
   "execution_count": 14,
   "metadata": {},
   "outputs": [
    {
     "name": "stdout",
     "output_type": "stream",
     "text": [
      "Epoch 1/50\n",
      "2911/2911 [==============================] - 3s 984us/step - loss: 0.6486 - acc: 0.8265\n",
      "Epoch 2/50\n",
      "2911/2911 [==============================] - 2s 738us/step - loss: 0.3388 - acc: 0.8451\n",
      "Epoch 3/50\n",
      "2911/2911 [==============================] - 2s 755us/step - loss: 0.3235 - acc: 0.8540\n",
      "Epoch 4/50\n",
      "2911/2911 [==============================] - 2s 733us/step - loss: 0.3234 - acc: 0.8568\n",
      "Epoch 5/50\n",
      "2911/2911 [==============================] - 2s 779us/step - loss: 0.3138 - acc: 0.8540\n",
      "Epoch 6/50\n",
      "2911/2911 [==============================] - 2s 748us/step - loss: 0.3018 - acc: 0.8667\n",
      "Epoch 7/50\n",
      "2911/2911 [==============================] - 2s 671us/step - loss: 0.2854 - acc: 0.8746\n",
      "Epoch 8/50\n",
      "2911/2911 [==============================] - 2s 846us/step - loss: 0.2702 - acc: 0.8835\n",
      "Epoch 9/50\n",
      "2911/2911 [==============================] - 2s 785us/step - loss: 0.2591 - acc: 0.8908 0s - loss: 0.2595 - acc: 0.89\n",
      "Epoch 10/50\n",
      "2911/2911 [==============================] - 2s 744us/step - loss: 0.2492 - acc: 0.8987\n",
      "Epoch 11/50\n",
      "2911/2911 [==============================] - 2s 710us/step - loss: 0.2448 - acc: 0.8935\n",
      "Epoch 12/50\n",
      "2911/2911 [==============================] - 2s 768us/step - loss: 0.2383 - acc: 0.8990 1\n",
      "Epoch 13/50\n",
      "2911/2911 [==============================] - 2s 825us/step - loss: 0.2351 - acc: 0.9045\n",
      "Epoch 14/50\n",
      "2911/2911 [==============================] - 3s 871us/step - loss: 0.2455 - acc: 0.8952\n",
      "Epoch 15/50\n",
      "2911/2911 [==============================] - 3s 917us/step - loss: 0.2304 - acc: 0.9066\n",
      "Epoch 16/50\n",
      "2911/2911 [==============================] - 2s 856us/step - loss: 0.2300 - acc: 0.9052\n",
      "Epoch 17/50\n",
      "2911/2911 [==============================] - 2s 776us/step - loss: 0.2286 - acc: 0.9072\n",
      "Epoch 18/50\n",
      "2911/2911 [==============================] - 2s 843us/step - loss: 0.2315 - acc: 0.9048\n",
      "Epoch 19/50\n",
      "2911/2911 [==============================] - 3s 873us/step - loss: 0.2272 - acc: 0.9079\n",
      "Epoch 20/50\n",
      "2911/2911 [==============================] - 3s 1ms/step - loss: 0.2228 - acc: 0.9100A: 0s - loss: 0.2167 - ac\n",
      "Epoch 21/50\n",
      "2911/2911 [==============================] - 2s 831us/step - loss: 0.2249 - acc: 0.9110\n",
      "Epoch 22/50\n",
      "2911/2911 [==============================] - 3s 898us/step - loss: 0.2256 - acc: 0.9076\n",
      "Epoch 23/50\n",
      "2911/2911 [==============================] - 2s 779us/step - loss: 0.2221 - acc: 0.9093\n",
      "Epoch 24/50\n",
      "2911/2911 [==============================] - 2s 711us/step - loss: 0.2178 - acc: 0.9103\n",
      "Epoch 25/50\n",
      "2911/2911 [==============================] - 2s 852us/step - loss: 0.2142 - acc: 0.9186\n",
      "Epoch 26/50\n",
      "2911/2911 [==============================] - 3s 948us/step - loss: 0.2153 - acc: 0.9151\n",
      "Epoch 27/50\n",
      "2911/2911 [==============================] - 3s 978us/step - loss: 0.2170 - acc: 0.9127\n",
      "Epoch 28/50\n",
      "2911/2911 [==============================] - 3s 1ms/step - loss: 0.2117 - acc: 0.9220\n",
      "Epoch 29/50\n",
      "2911/2911 [==============================] - 3s 1ms/step - loss: 0.2130 - acc: 0.9155A\n",
      "Epoch 30/50\n",
      "2911/2911 [==============================] - 3s 942us/step - loss: 0.2130 - acc: 0.9148\n",
      "Epoch 31/50\n",
      "2911/2911 [==============================] - 3s 899us/step - loss: 0.2155 - acc: 0.9151\n",
      "Epoch 32/50\n",
      "2911/2911 [==============================] - 2s 857us/step - loss: 0.2114 - acc: 0.9234\n",
      "Epoch 33/50\n",
      "2911/2911 [==============================] - 3s 888us/step - loss: 0.2064 - acc: 0.9151\n",
      "Epoch 34/50\n",
      "2911/2911 [==============================] - 2s 853us/step - loss: 0.2080 - acc: 0.9224\n",
      "Epoch 35/50\n",
      "2911/2911 [==============================] - 2s 828us/step - loss: 0.2061 - acc: 0.9231\n",
      "Epoch 36/50\n",
      "2911/2911 [==============================] - 2s 844us/step - loss: 0.2090 - acc: 0.9213\n",
      "Epoch 37/50\n",
      "2911/2911 [==============================] - 2s 833us/step - loss: 0.2066 - acc: 0.9200\n",
      "Epoch 38/50\n",
      "2911/2911 [==============================] - 3s 984us/step - loss: 0.2088 - acc: 0.9200 1\n",
      "Epoch 39/50\n",
      "2911/2911 [==============================] - 3s 900us/step - loss: 0.2008 - acc: 0.9251\n",
      "Epoch 40/50\n",
      "2911/2911 [==============================] - 3s 958us/step - loss: 0.2082 - acc: 0.9244\n",
      "Epoch 41/50\n",
      "2911/2911 [==============================] - 2s 854us/step - loss: 0.2053 - acc: 0.9193\n",
      "Epoch 42/50\n",
      "2911/2911 [==============================] - 3s 982us/step - loss: 0.2012 - acc: 0.9224\n",
      "Epoch 43/50\n",
      "2911/2911 [==============================] - 3s 913us/step - loss: 0.2033 - acc: 0.9224\n",
      "Epoch 44/50\n",
      "2911/2911 [==============================] - 2s 794us/step - loss: 0.1969 - acc: 0.9220\n",
      "Epoch 45/50\n",
      "2911/2911 [==============================] - 2s 792us/step - loss: 0.1950 - acc: 0.9275\n",
      "Epoch 46/50\n",
      "2911/2911 [==============================] - 2s 814us/step - loss: 0.1971 - acc: 0.9265\n",
      "Epoch 47/50\n",
      "2911/2911 [==============================] - 2s 818us/step - loss: 0.1987 - acc: 0.9224 1s \n",
      "Epoch 48/50\n",
      "2911/2911 [==============================] - 2s 816us/step - loss: 0.1979 - acc: 0.9275\n",
      "Epoch 49/50\n",
      "2911/2911 [==============================] - 2s 822us/step - loss: 0.1933 - acc: 0.9316\n",
      "Epoch 50/50\n",
      "2911/2911 [==============================] - 2s 831us/step - loss: 0.1926 - acc: 0.9248\n",
      "<keras.callbacks.History object at 0x000001CF05387160>\n"
     ]
    }
   ],
   "source": [
    "model.fit(dataset,encoded_labels, epochs=50, batch_size=3, callbacks=[history])"
   ]
  },
  {
   "cell_type": "code",
   "execution_count": 25,
   "metadata": {},
   "outputs": [],
   "source": [
    "final_loss = history.history['loss'][len(history.history['loss'])-1]\n",
    "if final_loss >  1.0:\n",
    "    sys.exit(\"Unsatisfactory loss ( >1.0) found. will not save model.\")"
   ]
  },
  {
   "cell_type": "code",
   "execution_count": 26,
   "metadata": {},
   "outputs": [
    {
     "name": "stdout",
     "output_type": "stream",
     "text": [
      "Created path assets/trained-models/state-model-1514976713\n",
      "Saving model to assets/trained-models/state-model-1514976713/model.json\n",
      "Saving weights to assets/trained-models/state-model-1514976713/model.h5\n"
     ]
    }
   ],
   "source": [
    "#create new model directory\n",
    "base_path = \"assets/trained-models\"\n",
    "this_model_name = \"state-model-%d\" % time.time()\n",
    "#ensure directory exists\n",
    "this_model_base_path = \"%s/%s\" % (base_path, this_model_name)\n",
    "os.makedirs(this_model_base_path)\n",
    "print(\"Created path \" + this_model_base_path)\n",
    "\n",
    "this_model_json_path = (\"{}/model.json\".format(this_model_base_path))\n",
    "this_model_weights_path = (\"{}/model.h5\".format(this_model_base_path))\n",
    "print(\"Saving model to \" + this_model_json_path)\n",
    "print(\"Saving weights to \" + this_model_weights_path)"
   ]
  },
  {
   "cell_type": "code",
   "execution_count": 27,
   "metadata": {},
   "outputs": [],
   "source": [
    "model_json = model.to_json()\n",
    "with open(this_model_json_path, \"w\") as json_file:\n",
    "    json_file.write(model_json)\n",
    "    json_file.close()\n",
    "model.save_weights(this_model_weights_path)"
   ]
  },
  {
   "cell_type": "code",
   "execution_count": 28,
   "metadata": {},
   "outputs": [
    {
     "name": "stdout",
     "output_type": "stream",
     "text": [
      "Model successfully saved.\n"
     ]
    }
   ],
   "source": [
    "#update the root index with the path to the latest model\n",
    "model_latest_index = \"%s/state.model.index\" % base_path\n",
    "with open(model_latest_index,\"w\") as model_latest_index_file:\n",
    "    model_latest_index_file.write(this_model_name)\n",
    "    model_latest_index_file.close()\n",
    "    \n",
    "print(\"Model successfully saved.\")"
   ]
  },
  {
   "cell_type": "code",
   "execution_count": null,
   "metadata": {},
   "outputs": [],
   "source": []
  }
 ],
 "metadata": {
  "kernelspec": {
   "display_name": "Python 3",
   "language": "python",
   "name": "python3"
  },
  "language_info": {
   "codemirror_mode": {
    "name": "ipython",
    "version": 3
   },
   "file_extension": ".py",
   "mimetype": "text/x-python",
   "name": "python",
   "nbconvert_exporter": "python",
   "pygments_lexer": "ipython3",
   "version": "3.5.3"
  }
 },
 "nbformat": 4,
 "nbformat_minor": 2
}
