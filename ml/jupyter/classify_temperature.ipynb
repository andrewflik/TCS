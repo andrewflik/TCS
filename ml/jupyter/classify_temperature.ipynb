{
 "cells": [
  {
   "cell_type": "code",
   "execution_count": 1,
   "metadata": {},
   "outputs": [
    {
     "name": "stderr",
     "output_type": "stream",
     "text": [
      "Using TensorFlow backend.\n"
     ]
    }
   ],
   "source": [
    "from keras.models import Sequential\n",
    "from keras.models import model_from_json\n",
    "from keras.layers import Dense\n",
    "from keras.layers import Activation\n",
    "from keras.utils import np_utils\n",
    "from sklearn.preprocessing import LabelEncoder\n",
    "import numpy\n",
    "import pprint\n",
    "import time\n",
    "import os\n",
    "import h5py\n",
    "import json\n",
    "#my code\n",
    "import shared"
   ]
  },
  {
   "cell_type": "code",
   "execution_count": 2,
   "metadata": {},
   "outputs": [],
   "source": [
    "class TemperatureClassifier:\n",
    "    \n",
    "    loaded_model = \"\"\n",
    "    labels_map = dict()\n",
    "    \n",
    "    def read_file_contents(self, file_name):\n",
    "        with open(file_name,'r') as file_to_read:\n",
    "            return file_to_read.read()\n",
    "\n",
    "    def initialize(self):\n",
    "        #create new model directory\n",
    "        base_path = \"assets/trained-models\"\n",
    "        base_path_model = \"{}/{}\".format(base_path, self.read_file_contents(\"{}/temperature-model.index\".format(base_path)))\n",
    "\n",
    "        print(\"Resolved base_path_state_model to: \", base_path_model)\n",
    "\n",
    "        #resolve paths to files\n",
    "        json_model_file = \"{}/model.json\".format(base_path_model)\n",
    "        weight_model_file = \"{}/model.h5\".format(base_path_model)\n",
    "        this_model_labels_path = (\"{}/labels.json\".format(base_path_model))\n",
    "\n",
    "        print(\"Loading model from: \", json_model_file)\n",
    "        print(\"Loading weights from: \", weight_model_file)\n",
    "        print(\"Loading labels from: \", this_model_labels_path)\n",
    "\n",
    "        #load model\n",
    "        model_json = self.read_file_contents(json_model_file)\n",
    "        self.loaded_model = model_from_json(model_json)\n",
    "        #load weights\n",
    "        self.loaded_model.load_weights(weight_model_file)\n",
    "\n",
    "        #compile the model\n",
    "        self.loaded_model.compile(loss='categorical_crossentropy', optimizer='adam', metrics=['accuracy'])\n",
    "        \n",
    "        #load labels\n",
    "        labels_json = self.read_file_contents(this_model_labels_path)\n",
    "        self.labels_map = json.loads(labels_json)\n",
    "        \n",
    "\n",
    "        print(\"Model successfully Loaded.\")"
   ]
  },
  {
   "cell_type": "code",
   "execution_count": 3,
   "metadata": {},
   "outputs": [],
   "source": [
    "def getTestInput():\n",
    "    day=26\n",
    "    extHumidity=64\n",
    "    extTemp=30\n",
    "    fanspeed=0\n",
    "    hour=19\n",
    "    loungeHumidity=46\n",
    "    loungeTemp=22\n",
    "    minute=0\n",
    "    mode=1\n",
    "    month=10\n",
    "    pirstatus=5\n",
    "    \n",
    "    return numpy.array([day,extHumidity,extTemp,fanspeed,hour,loungeHumidity,loungeTemp,minute,mode,month,pirstatus]).reshape((1,11))\n"
   ]
  },
  {
   "cell_type": "code",
   "execution_count": 4,
   "metadata": {},
   "outputs": [],
   "source": [
    "def test():\n",
    "    classifier = TemperatureClassifier()\n",
    "    classifier.initialize()\n",
    "\n",
    "    input  = getTestInput()\n",
    "    print(input)\n",
    "    \n",
    "    result = classifier.loaded_model.predict(input)\n",
    "    for res in result:\n",
    "        print(res)\n",
    "        \n",
    "    result = classifier.loaded_model.predict_classes(input)\n",
    "    for res in result:\n",
    "        print(\"class: \",res, \"temperature: \", classifier.labels_map[str(res)])"
   ]
  },
  {
   "cell_type": "code",
   "execution_count": 5,
   "metadata": {},
   "outputs": [
    {
     "name": "stdout",
     "output_type": "stream",
     "text": [
      "Resolved base_path_state_model to:  assets/trained-models/temperature-model-1514372279\n",
      "Loading model from:  assets/trained-models/temperature-model-1514372279/model.json\n",
      "Loading weights from:  assets/trained-models/temperature-model-1514372279/model.h5\n",
      "Loading labels from:  assets/trained-models/temperature-model-1514372279/labels.json\n",
      "Model successfully Loaded.\n",
      "[[26 64 30  0 19 46 22  0  1 10  5]]\n",
      "[  5.45323826e-04   2.10617254e-05   9.99433577e-01]\n",
      "class:  2 temperature:  30\n"
     ]
    }
   ],
   "source": [
    "if __name__ == '__main__':\n",
    "    test()"
   ]
  },
  {
   "cell_type": "code",
   "execution_count": null,
   "metadata": {},
   "outputs": [],
   "source": []
  }
 ],
 "metadata": {
  "kernelspec": {
   "display_name": "Python 3",
   "language": "python",
   "name": "python3"
  },
  "language_info": {
   "codemirror_mode": {
    "name": "ipython",
    "version": 3
   },
   "file_extension": ".py",
   "mimetype": "text/x-python",
   "name": "python",
   "nbconvert_exporter": "python",
   "pygments_lexer": "ipython3",
   "version": "3.5.3"
  }
 },
 "nbformat": 4,
 "nbformat_minor": 2
}
